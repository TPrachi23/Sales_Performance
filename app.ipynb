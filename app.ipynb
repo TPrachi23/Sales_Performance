{
 "cells": [
  {
   "cell_type": "code",
   "execution_count": 1,
   "id": "d98558a7-600c-444a-af90-f6b679fd67b9",
   "metadata": {},
   "outputs": [
    {
     "name": "stderr",
     "output_type": "stream",
     "text": [
      "2024-11-25 20:31:22.240 \n",
      "  \u001b[33m\u001b[1mWarning:\u001b[0m to view this Streamlit app on a browser, run it with the following\n",
      "  command:\n",
      "\n",
      "    streamlit run C:\\Users\\Sudharsana\\anaconda3\\Lib\\site-packages\\ipykernel_launcher.py [ARGUMENTS]\n"
     ]
    },
    {
     "data": {
      "text/plain": [
       "DeltaGenerator()"
      ]
     },
     "execution_count": 1,
     "metadata": {},
     "output_type": "execute_result"
    }
   ],
   "source": [
    "import streamlit as st\n",
    "import pandas as pd\n",
    "import plotly.express as px\n",
    "\n",
    "# Load dataset\n",
    "df = pd.read_csv(\"retail_sales_dataset.csv\")\n",
    "\n",
    "# Total Sales by Product Category\n",
    "sales_by_category = df.groupby(\"Product Category\")[\"Total Amount\"].sum().reset_index()\n",
    "fig = px.bar(sales_by_category, x=\"Product Category\", y=\"Total Amount\",\n",
    "             title=\"Total Sales by Product Category\")\n",
    "\n",
    "# Streamlit App\n",
    "st.title(\"Retail Sales Dashboard\")\n",
    "st.plotly_chart(fig)\n"
   ]
  },
  {
   "cell_type": "code",
   "execution_count": null,
   "id": "b7981523-3780-447e-84a8-8be594831a0f",
   "metadata": {},
   "outputs": [],
   "source": []
  }
 ],
 "metadata": {
  "kernelspec": {
   "display_name": "Python 3 (ipykernel)",
   "language": "python",
   "name": "python3"
  },
  "language_info": {
   "codemirror_mode": {
    "name": "ipython",
    "version": 3
   },
   "file_extension": ".py",
   "mimetype": "text/x-python",
   "name": "python",
   "nbconvert_exporter": "python",
   "pygments_lexer": "ipython3",
   "version": "3.12.7"
  }
 },
 "nbformat": 4,
 "nbformat_minor": 5
}
